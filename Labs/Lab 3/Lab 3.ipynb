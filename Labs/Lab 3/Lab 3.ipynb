{
 "cells": [
  {
   "cell_type": "markdown",
   "metadata": {},
   "source": [
    "# Lab Three\n",
    "---\n",
    "\n",
    "Ok for this lab we're going to reiterate a lot of the things that we went over in class.\n",
    "\n",
    "Our Goals are:\n",
    "- Understanding Variable Types\n",
    "- Defining Variables\n",
    "- Using Conditionals\n",
    "- Using Loops\n",
    "- Creating Objects\n",
    "- Writing a function\n"
   ]
  },
  {
   "cell_type": "markdown",
   "metadata": {},
   "source": [
    "## What's the difference between Null and undefined?\n",
    "Null is when there is no value on purpose, but that it is assigned a place holder such as 0 or object. While undefined means that it does not even exist. "
   ]
  },
  {
   "cell_type": "markdown",
   "metadata": {},
   "source": [
    "## List the 3 Variable Types and Use Them!\n",
    "Numbers, Strings, Booleans"
   ]
  },
  {
   "cell_type": "code",
   "execution_count": 1,
   "metadata": {},
   "outputs": [
    {
     "name": "stdout",
     "output_type": "stream",
     "text": [
      "44\n",
      "This is a string!\n",
      "true\n"
     ]
    }
   ],
   "source": [
    "console.log(32+12);\n",
    "\n",
    "console.log(\"This is a string!\");\n",
    "\n",
    "console.log(true);"
   ]
  },
  {
   "cell_type": "markdown",
   "metadata": {},
   "source": [
    "## Use an If/Else If/Else Statement and a Switch Case statement"
   ]
  },
  {
   "cell_type": "code",
   "execution_count": 22,
   "metadata": {},
   "outputs": [
    {
     "name": "stdout",
     "output_type": "stream",
     "text": [
      "Let's go to the pool!\n"
     ]
    }
   ],
   "source": [
    "let pool = true;\n",
    "let beach = false;\n",
    "\n",
    "if(beach) {\n",
    "    console.log(\"Let's go to the beach!\");\n",
    "} else if(pool) {\n",
    "    console.log(\"Let's go to the pool!\");\n",
    "} else {\n",
    "    console.log(\"Let's stay at home!\");\n",
    "}"
   ]
  },
  {
   "cell_type": "code",
   "execution_count": 12,
   "metadata": {},
   "outputs": [
    {
     "name": "stdout",
     "output_type": "stream",
     "text": [
      "Lava is red.\n"
     ]
    }
   ],
   "source": [
    "let starter = \"red\";\n",
    "\n",
    "switch(starter){\n",
    "    case \"blue\":\n",
    "        console.log(\"The sky is blue.\");\n",
    "        break;\n",
    "    case \"yellow\":\n",
    "        console.log(\"The sun is yellow.\");\n",
    "        break;\n",
    "    case \"red\":\n",
    "        console.log(\"Lava is red.\");\n",
    "        break;\n",
    "        \n",
    "    default:\n",
    "        console.log(\"Earth is so many colors.\");\n",
    "        break;\n",
    "}"
   ]
  },
  {
   "cell_type": "markdown",
   "metadata": {},
   "source": [
    "## Use a For and a While Loop"
   ]
  },
  {
   "cell_type": "code",
   "execution_count": 13,
   "metadata": {},
   "outputs": [
    {
     "name": "stdout",
     "output_type": "stream",
     "text": [
      "0\n",
      "1\n",
      "2\n",
      "3\n",
      "4\n",
      "5\n",
      "6\n",
      "7\n"
     ]
    }
   ],
   "source": [
    "for (var i = 0; i <= 7; i++) {\n",
    "    console.log(i);\n",
    "}"
   ]
  },
  {
   "cell_type": "code",
   "execution_count": 1,
   "metadata": {},
   "outputs": [
    {
     "name": "stdout",
     "output_type": "stream",
     "text": [
      "purple\n",
      "blue\n",
      "green\n",
      "yellow\n",
      "orange\n",
      "red\n"
     ]
    }
   ],
   "source": [
    "var stack = [\"red\",\"orange\",\"yellow\",\"green\",\"blue\",\"purple\"]\n",
    "while (stack.length != 0) {\n",
    "    console.log(stack.pop());\n",
    "}"
   ]
  },
  {
   "cell_type": "markdown",
   "metadata": {},
   "source": [
    "## Make an object!"
   ]
  },
  {
   "cell_type": "code",
   "execution_count": 6,
   "metadata": {},
   "outputs": [
    {
     "name": "stdout",
     "output_type": "stream",
     "text": [
      "{\n",
      "  kitchen: 'green',\n",
      "  livingRoom: 'grey',\n",
      "  bathRoom: 'yellow',\n",
      "  bedRoom: 'blue'\n",
      "}\n"
     ]
    }
   ],
   "source": [
    "let wallColor = {\n",
    "    kitchen: \"green\",\n",
    "    livingRoom: \"grey\",\n",
    "    bathRoom: \"yellow\",\n",
    "    bedRoom: \"blue\",\n",
    "}\n",
    "\n",
    "console.log(wallColor);"
   ]
  },
  {
   "cell_type": "markdown",
   "metadata": {},
   "source": [
    "## Make a function, It can do anything!"
   ]
  },
  {
   "cell_type": "code",
   "execution_count": null,
   "metadata": {},
   "outputs": [],
   "source": [
    "function rectangleArea (l, w){\n",
    "    console.log()\n",
    "}"
   ]
  },
  {
   "cell_type": "markdown",
   "metadata": {},
   "source": [
    "## Optional: Checkout HackerRank and try a problem in Javascript"
   ]
  }
 ],
 "metadata": {
  "kernelspec": {
   "display_name": "Javascript (Node.js)",
   "language": "javascript",
   "name": "javascript"
  },
  "language_info": {
   "file_extension": ".js",
   "mimetype": "application/javascript",
   "name": "javascript",
   "version": "16.6.1"
  }
 },
 "nbformat": 4,
 "nbformat_minor": 2
}
